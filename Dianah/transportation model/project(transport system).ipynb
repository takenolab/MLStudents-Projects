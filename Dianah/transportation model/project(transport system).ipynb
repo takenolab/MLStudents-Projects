{
 "cells": [
  {
   "cell_type": "code",
   "execution_count": 1,
   "id": "5166e376-c442-45ba-83ff-0d37c7263c80",
   "metadata": {},
   "outputs": [],
   "source": [
    "import pandas as pd\n",
    "import numpy as np\n",
    "import matplotlib.pyplot as plt\n",
    "from sklearn.linear_model import LinearRegression\n",
    "from sklearn.model_selection import train_test_split\n",
    "from sklearn.metrics import roc_curve,auc"
   ]
  },
  {
   "cell_type": "code",
   "execution_count": 11,
   "id": "67a3c377-319c-4783-bbc4-0b6707b756fa",
   "metadata": {},
   "outputs": [
    {
     "data": {
      "text/html": [
       "<div>\n",
       "<style scoped>\n",
       "    .dataframe tbody tr th:only-of-type {\n",
       "        vertical-align: middle;\n",
       "    }\n",
       "\n",
       "    .dataframe tbody tr th {\n",
       "        vertical-align: top;\n",
       "    }\n",
       "\n",
       "    .dataframe thead th {\n",
       "        text-align: right;\n",
       "    }\n",
       "</style>\n",
       "<table border=\"1\" class=\"dataframe\">\n",
       "  <thead>\n",
       "    <tr style=\"text-align: right;\">\n",
       "      <th></th>\n",
       "      <th>Fuel Type</th>\n",
       "      <th>Cost (MWK/L)</th>\n",
       "      <th>Availability (%)</th>\n",
       "      <th>Kilometers Covered</th>\n",
       "      <th>Time of Day</th>\n",
       "      <th>Cars Available</th>\n",
       "      <th>Final Travel Price (MWK)</th>\n",
       "    </tr>\n",
       "  </thead>\n",
       "  <tbody>\n",
       "    <tr>\n",
       "      <th>0</th>\n",
       "      <td>Diesel</td>\n",
       "      <td>2611.952744</td>\n",
       "      <td>79.943730</td>\n",
       "      <td>101</td>\n",
       "      <td>Nighttime</td>\n",
       "      <td>False</td>\n",
       "      <td>11557.572042</td>\n",
       "    </tr>\n",
       "    <tr>\n",
       "      <th>1</th>\n",
       "      <td>Petrol</td>\n",
       "      <td>2656.427178</td>\n",
       "      <td>66.886259</td>\n",
       "      <td>161</td>\n",
       "      <td>Nighttime</td>\n",
       "      <td>True</td>\n",
       "      <td>16427.922847</td>\n",
       "    </tr>\n",
       "    <tr>\n",
       "      <th>2</th>\n",
       "      <td>Petrol</td>\n",
       "      <td>2702.005563</td>\n",
       "      <td>92.584733</td>\n",
       "      <td>68</td>\n",
       "      <td>Nighttime</td>\n",
       "      <td>False</td>\n",
       "      <td>8263.002275</td>\n",
       "    </tr>\n",
       "    <tr>\n",
       "      <th>3</th>\n",
       "      <td>Diesel</td>\n",
       "      <td>2647.243803</td>\n",
       "      <td>89.968670</td>\n",
       "      <td>130</td>\n",
       "      <td>Nighttime</td>\n",
       "      <td>False</td>\n",
       "      <td>14474.567731</td>\n",
       "    </tr>\n",
       "    <tr>\n",
       "      <th>4</th>\n",
       "      <td>Diesel</td>\n",
       "      <td>2656.320374</td>\n",
       "      <td>79.645957</td>\n",
       "      <td>152</td>\n",
       "      <td>Daytime</td>\n",
       "      <td>False</td>\n",
       "      <td>16552.995335</td>\n",
       "    </tr>\n",
       "    <tr>\n",
       "      <th>...</th>\n",
       "      <td>...</td>\n",
       "      <td>...</td>\n",
       "      <td>...</td>\n",
       "      <td>...</td>\n",
       "      <td>...</td>\n",
       "      <td>...</td>\n",
       "      <td>...</td>\n",
       "    </tr>\n",
       "    <tr>\n",
       "      <th>995</th>\n",
       "      <td>Petrol</td>\n",
       "      <td>2513.156351</td>\n",
       "      <td>51.055647</td>\n",
       "      <td>197</td>\n",
       "      <td>Daytime</td>\n",
       "      <td>False</td>\n",
       "      <td>21033.897316</td>\n",
       "    </tr>\n",
       "    <tr>\n",
       "      <th>996</th>\n",
       "      <td>Diesel</td>\n",
       "      <td>2506.126399</td>\n",
       "      <td>74.441157</td>\n",
       "      <td>109</td>\n",
       "      <td>Nighttime</td>\n",
       "      <td>False</td>\n",
       "      <td>12353.744392</td>\n",
       "    </tr>\n",
       "    <tr>\n",
       "      <th>997</th>\n",
       "      <td>Petrol</td>\n",
       "      <td>2647.297553</td>\n",
       "      <td>98.941370</td>\n",
       "      <td>120</td>\n",
       "      <td>Daytime</td>\n",
       "      <td>False</td>\n",
       "      <td>13365.509611</td>\n",
       "    </tr>\n",
       "    <tr>\n",
       "      <th>998</th>\n",
       "      <td>Petrol</td>\n",
       "      <td>2605.950611</td>\n",
       "      <td>74.147177</td>\n",
       "      <td>68</td>\n",
       "      <td>Daytime</td>\n",
       "      <td>True</td>\n",
       "      <td>6998.011592</td>\n",
       "    </tr>\n",
       "    <tr>\n",
       "      <th>999</th>\n",
       "      <td>Petrol</td>\n",
       "      <td>2556.540249</td>\n",
       "      <td>85.151923</td>\n",
       "      <td>37</td>\n",
       "      <td>Nighttime</td>\n",
       "      <td>False</td>\n",
       "      <td>5148.216481</td>\n",
       "    </tr>\n",
       "  </tbody>\n",
       "</table>\n",
       "<p>1000 rows × 7 columns</p>\n",
       "</div>"
      ],
      "text/plain": [
       "    Fuel Type  Cost (MWK/L)  Availability (%)  Kilometers Covered Time of Day  \\\n",
       "0      Diesel   2611.952744         79.943730                 101   Nighttime   \n",
       "1      Petrol   2656.427178         66.886259                 161   Nighttime   \n",
       "2      Petrol   2702.005563         92.584733                  68   Nighttime   \n",
       "3      Diesel   2647.243803         89.968670                 130   Nighttime   \n",
       "4      Diesel   2656.320374         79.645957                 152     Daytime   \n",
       "..        ...           ...               ...                 ...         ...   \n",
       "995    Petrol   2513.156351         51.055647                 197     Daytime   \n",
       "996    Diesel   2506.126399         74.441157                 109   Nighttime   \n",
       "997    Petrol   2647.297553         98.941370                 120     Daytime   \n",
       "998    Petrol   2605.950611         74.147177                  68     Daytime   \n",
       "999    Petrol   2556.540249         85.151923                  37   Nighttime   \n",
       "\n",
       "     Cars Available  Final Travel Price (MWK)  \n",
       "0             False              11557.572042  \n",
       "1              True              16427.922847  \n",
       "2             False               8263.002275  \n",
       "3             False              14474.567731  \n",
       "4             False              16552.995335  \n",
       "..              ...                       ...  \n",
       "995           False              21033.897316  \n",
       "996           False              12353.744392  \n",
       "997           False              13365.509611  \n",
       "998            True               6998.011592  \n",
       "999           False               5148.216481  \n",
       "\n",
       "[1000 rows x 7 columns]"
      ]
     },
     "execution_count": 11,
     "metadata": {},
     "output_type": "execute_result"
    }
   ],
   "source": [
    "dataset = pd.read_csv('transport system.csv')\n",
    "dataset"
   ]
  },
  {
   "cell_type": "code",
   "execution_count": 27,
   "id": "f8175744-c021-487f-a320-a3a5901d7d93",
   "metadata": {},
   "outputs": [],
   "source": [
    "def travel_price():\n",
    "    print('## welcome to this program ##')\n",
    "    print('fill in the following to check your price to pay')\n",
    "    fuel=int(input('fill the type of the fuel(if diesel =0 or petrol =1):'))\n",
    "    print('\\n')\n",
    "    cost =float(input('type the amount of fuel:'))\n",
    "    print('\\n')\n",
    "    availability=float(input(\"type the availability of the fuel in % but without '%'(65.99)\"))\n",
    "    print('\\n')\n",
    "    kilometers=int(input(\"type the kilometers to cover (50):\"))\n",
    "    print('\\n')\n",
    "    time=int(input(\"time of the day if night type '0' or day '1':\"))\n",
    "    print('\\n')\n",
    "    car =int(input(\"if cars are available '1' if not '0':\"))\n",
    "    print('\\n')\n",
    "    \n",
    "    # OPENING THE DATASET OF TRANSIPORT AND MAKING SOME CHANGES\n",
    "    dataset = pd.read_csv('transport system.csv')\n",
    "    \n",
    "\n",
    "    # Opt into the new behavior\n",
    "    pd.set_option('future.no_silent_downcasting', True)\n",
    "\n",
    "    dataset['Fuel Type'] = dataset['Fuel Type'].replace({'Diesel': 0, 'Petrol': 1}).infer_objects(copy=False)\n",
    "    dataset['Time of Day'] = dataset['Time of Day'].replace({'Nighttime': 0, 'Daytime': 1}).infer_objects(copy=False)\n",
    "\n",
    "    \n",
    "    # ASSIGNING THE FEATURES AND LABELS\n",
    "    X=dataset[['Fuel Type','Cost (MWK/L)','Availability (%)','Kilometers Covered','Time of Day','Cars Available']].values\n",
    "    y=dataset['Final Travel Price (MWK)'].values\n",
    "    \n",
    "    # trianing the model\n",
    "    X_train,X_test,y_train,y_test=train_test_split(X,y,test_size=0.2,random_state=42)\n",
    "    model=LinearRegression()\n",
    "    model.fit(X_train,y_train)\n",
    "    \n",
    "    # predicting the price\n",
    "    new=[[fuel,cost,availability,kilometers,time,car]]\n",
    "    price=model.predict(new)\n",
    "    return f\"The price should be MKW:{price}\\n\\n## THANK YOU FOR CHOOSING OUR SERVICE TILL ANOTHER DAY ##\"\n",
    "    \n",
    "    \n",
    "    \n",
    "    "
   ]
  },
  {
   "cell_type": "code",
   "execution_count": 28,
   "id": "73c09871-c9aa-41ee-9a16-dc05c6ae11ae",
   "metadata": {},
   "outputs": [
    {
     "name": "stdout",
     "output_type": "stream",
     "text": [
      "## welcome to this program ##\n",
      "fill in the following to check your price to pay\n"
     ]
    },
    {
     "name": "stdin",
     "output_type": "stream",
     "text": [
      "fill the type of the fuel(if diesel =0 or petrol =1): 1\n"
     ]
    },
    {
     "name": "stdout",
     "output_type": "stream",
     "text": [
      "\n",
      "\n"
     ]
    },
    {
     "name": "stdin",
     "output_type": "stream",
     "text": [
      "type the amount of fuel: 1400\n"
     ]
    },
    {
     "name": "stdout",
     "output_type": "stream",
     "text": [
      "\n",
      "\n"
     ]
    },
    {
     "name": "stdin",
     "output_type": "stream",
     "text": [
      "type the availability of the fuel in % but without '%'(65.99) 23.5\n"
     ]
    },
    {
     "name": "stdout",
     "output_type": "stream",
     "text": [
      "\n",
      "\n"
     ]
    },
    {
     "name": "stdin",
     "output_type": "stream",
     "text": [
      "type the kilometers to cover (50): 147\n"
     ]
    },
    {
     "name": "stdout",
     "output_type": "stream",
     "text": [
      "\n",
      "\n"
     ]
    },
    {
     "name": "stdin",
     "output_type": "stream",
     "text": [
      "time of the day if night type '0' or day '1': 1\n"
     ]
    },
    {
     "name": "stdout",
     "output_type": "stream",
     "text": [
      "\n",
      "\n"
     ]
    },
    {
     "name": "stdin",
     "output_type": "stream",
     "text": [
      "if cars are available '1' if not '0': 1\n"
     ]
    },
    {
     "name": "stdout",
     "output_type": "stream",
     "text": [
      "\n",
      "\n"
     ]
    },
    {
     "data": {
      "text/plain": [
       "'The price should be MKW:{price}\\n\\n## THANK YOU FOR CHOOSING OUR SERVICE TILL ANOTHER DAY ##'"
      ]
     },
     "execution_count": 28,
     "metadata": {},
     "output_type": "execute_result"
    }
   ],
   "source": [
    "travel_price()"
   ]
  },
  {
   "cell_type": "code",
   "execution_count": null,
   "id": "12090a35-9726-416f-9407-f5acfe7e82b4",
   "metadata": {},
   "outputs": [],
   "source": []
  }
 ],
 "metadata": {
  "kernelspec": {
   "display_name": "Python 3 (ipykernel)",
   "language": "python",
   "name": "python3"
  },
  "language_info": {
   "codemirror_mode": {
    "name": "ipython",
    "version": 3
   },
   "file_extension": ".py",
   "mimetype": "text/x-python",
   "name": "python",
   "nbconvert_exporter": "python",
   "pygments_lexer": "ipython3",
   "version": "3.13.2"
  }
 },
 "nbformat": 4,
 "nbformat_minor": 5
}
