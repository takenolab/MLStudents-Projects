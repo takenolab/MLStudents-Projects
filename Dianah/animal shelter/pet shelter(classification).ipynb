{
 "cells": [
  {
   "cell_type": "code",
   "execution_count": 5,
   "id": "02db8ad9-0e70-4f49-870e-5592e295345a",
   "metadata": {},
   "outputs": [],
   "source": [
    "import pandas as pd\n",
    "import numpy as np\n",
    "import matplotlib.pyplot as plt\n",
    "import seaborn as sns\n",
    "from sklearn.model_selection import train_test_split\n",
    "from sklearn.ensemble import RandomForestClassifier\n",
    "from sklearn.metrics import classification_report, confusion_matrix\n",
    "from sklearn.metrics import accuracy_score,precision_score,recall_score,f1_score"
   ]
  },
  {
   "cell_type": "code",
   "execution_count": 8,
   "id": "fcd42f81-dda1-48e3-ab21-fcc72b8cf2dd",
   "metadata": {},
   "outputs": [
    {
     "name": "stdout",
     "output_type": "stream",
     "text": [
      "\n",
      "Classification Report:\n",
      "               precision    recall  f1-score   support\n",
      "\n",
      "           0       0.00      0.00      0.00       1.0\n",
      "           1       0.00      0.00      0.00       0.0\n",
      "\n",
      "    accuracy                           0.00       1.0\n",
      "   macro avg       0.00      0.00      0.00       1.0\n",
      "weighted avg       0.00      0.00      0.00       1.0\n",
      "\n",
      "\n",
      "Classification Metrics\n",
      "Accuracy: 0.00\n",
      "Precision: 0.00\n",
      "Recall : 0.00\n",
      "F1: 0.00\n"
     ]
    },
    {
     "name": "stderr",
     "output_type": "stream",
     "text": [
      "C:\\Users\\Student\\AppData\\Local\\Programs\\Python\\Python313\\Lib\\site-packages\\sklearn\\metrics\\_classification.py:1565: UndefinedMetricWarning: Precision is ill-defined and being set to 0.0 in labels with no predicted samples. Use `zero_division` parameter to control this behavior.\n",
      "  _warn_prf(average, modifier, f\"{metric.capitalize()} is\", len(result))\n",
      "C:\\Users\\Student\\AppData\\Local\\Programs\\Python\\Python313\\Lib\\site-packages\\sklearn\\metrics\\_classification.py:1565: UndefinedMetricWarning: Recall is ill-defined and being set to 0.0 in labels with no true samples. Use `zero_division` parameter to control this behavior.\n",
      "  _warn_prf(average, modifier, f\"{metric.capitalize()} is\", len(result))\n",
      "C:\\Users\\Student\\AppData\\Local\\Programs\\Python\\Python313\\Lib\\site-packages\\sklearn\\metrics\\_classification.py:1565: UndefinedMetricWarning: Precision is ill-defined and being set to 0.0 in labels with no predicted samples. Use `zero_division` parameter to control this behavior.\n",
      "  _warn_prf(average, modifier, f\"{metric.capitalize()} is\", len(result))\n",
      "C:\\Users\\Student\\AppData\\Local\\Programs\\Python\\Python313\\Lib\\site-packages\\sklearn\\metrics\\_classification.py:1565: UndefinedMetricWarning: Recall is ill-defined and being set to 0.0 in labels with no true samples. Use `zero_division` parameter to control this behavior.\n",
      "  _warn_prf(average, modifier, f\"{metric.capitalize()} is\", len(result))\n",
      "C:\\Users\\Student\\AppData\\Local\\Programs\\Python\\Python313\\Lib\\site-packages\\sklearn\\metrics\\_classification.py:1565: UndefinedMetricWarning: Precision is ill-defined and being set to 0.0 in labels with no predicted samples. Use `zero_division` parameter to control this behavior.\n",
      "  _warn_prf(average, modifier, f\"{metric.capitalize()} is\", len(result))\n",
      "C:\\Users\\Student\\AppData\\Local\\Programs\\Python\\Python313\\Lib\\site-packages\\sklearn\\metrics\\_classification.py:1565: UndefinedMetricWarning: Recall is ill-defined and being set to 0.0 in labels with no true samples. Use `zero_division` parameter to control this behavior.\n",
      "  _warn_prf(average, modifier, f\"{metric.capitalize()} is\", len(result))\n",
      "C:\\Users\\Student\\AppData\\Local\\Programs\\Python\\Python313\\Lib\\site-packages\\sklearn\\metrics\\_classification.py:1565: UndefinedMetricWarning: Precision is ill-defined and being set to 0.0 in labels with no predicted samples. Use `zero_division` parameter to control this behavior.\n",
      "  _warn_prf(average, modifier, f\"{metric.capitalize()} is\", len(result))\n",
      "C:\\Users\\Student\\AppData\\Local\\Programs\\Python\\Python313\\Lib\\site-packages\\sklearn\\metrics\\_classification.py:1565: UndefinedMetricWarning: Recall is ill-defined and being set to 0.0 in labels with no true samples. Use `zero_division` parameter to control this behavior.\n",
      "  _warn_prf(average, modifier, f\"{metric.capitalize()} is\", len(result))\n"
     ]
    },
    {
     "data": {
      "image/png": "[encoded data removed]",
      "text/plain": [
       "<Figure size 640x480 with 1 Axes>"
      ]
     },
     "metadata": {},
     "output_type": "display_data"
    }
   ],
   "source": [
    "\n",
    "class Animal:\n",
    "    def __init__(self, name, age, breed, health_status, species):\n",
    "        self.name = name\n",
    "        self.age = age\n",
    "        self.breed = breed\n",
    "        self.health_status = health_status\n",
    "        self.species = species  # \"Cat\" or \"Dog\"\n",
    "\n",
    "    def display_info(self):\n",
    "        return f\"{self.name}, a {self.age}-year-old {self.breed}, is {self.health_status}.\"\n",
    "\n",
    "class Shelter(Animal):\n",
    "    def __init__(self):\n",
    "        self.animals = []\n",
    "\n",
    "    def add_animal(self, name, age, breed, health_status, species):\n",
    "        animal = Animal(name, age, breed, health_status, species)\n",
    "        self.animals.append(animal)\n",
    "\n",
    "    def remove_animal(self, name):\n",
    "        self.animals = [a for a in self.animals if a.name != name]\n",
    "\n",
    "    def list_animals(self):\n",
    "        return self.animals\n",
    "\n",
    "shelter = Shelter()\n",
    "\n",
    "# Add animals (Inheritance in action!)\n",
    "shelter.add_animal(\"Rio\", 3, \"Labrador\", \"Healthy\", \"Dog\")\n",
    "shelter.add_animal(\"Lucky\", 5, \"Siamese\", \"Sick\", \"Cat\")\n",
    "shelter.add_animal(\"Charles\", 2, \"Bulldog\", \"Sick\", \"Dog\")\n",
    "shelter.add_animal(\"Jess\", 4, \"Persian\", \"Healthy\", \"Cat\")\n",
    "\n",
    "# Convert shelter animals into a dataset\n",
    "data = [[animal.name, animal.age, animal.breed, animal.health_status, animal.species] for animal in shelter.list_animals()]\n",
    "df = pd.DataFrame(data, columns=[\"Name\", \"Age\", \"Breed\", \"Health\", \"Species\"])\n",
    "\n",
    "# Encode categorical variables for machine learning\n",
    "df[\"Health\"] = df[\"Health\"].map({\"Healthy\": 1, \"Sick\": 0})\n",
    "df[\"Species\"] = df[\"Species\"].map({\"Dog\": 1, \"Cat\": 0})\n",
    "\n",
    "\n",
    "X = df[[\"Age\", \"Species\"]]\n",
    "y = df[\"Health\"]\n",
    "\n",
    "X_train, X_test, y_train, y_test = train_test_split(X, y, test_size=0.2, random_state=42)\n",
    "\n",
    "model = RandomForestClassifier()\n",
    "model.fit(X_train, y_train)\n",
    "\n",
    "# Predictions and evaluation\n",
    "y_pred = model.predict(X_test)\n",
    "print(\"\\nClassification Report:\\n\", classification_report(y_test, y_pred))\n",
    "\n",
    "accuracy =accuracy_score(y_test,y_pred)\n",
    "precision =precision_score(y_test,y_pred,average='macro')\n",
    "recall =recall_score(y_test,y_pred,average='macro')\n",
    "f1 =f1_score(y_test,y_pred,average='macro')\n",
    "\n",
    "print('\\nClassification Metrics')\n",
    "print(f'Accuracy: {accuracy:.2f}')\n",
    "print(f'Precision: {precision:.2f}')\n",
    "print(f'Recall : {recall:.2f}')\n",
    "print(f'F1: {f1:.2f}')\n",
    "\n",
    "# Visualization: Health Distribution by Species\n",
    "sns.countplot(x=df[\"Species\"], hue=df[\"Health\"])\n",
    "plt.xlabel(\"Species (0=Cat, 1=Dog)\")\n",
    "plt.ylabel(\"Count\")\n",
    "plt.title(\"Health Distribution in the Shelter\")\n",
    "plt.show()\n"
   ]
  },
  {
   "cell_type": "code",
   "execution_count": 3,
   "id": "50db259f-de6e-4e7b-88c2-384b41fa0f4b",
   "metadata": {},
   "outputs": [
    {
     "name": "stdout",
     "output_type": "stream",
     "text": [
      "\n",
      " Pet Shelter Management System\n",
      "1. Add an Animal\n",
      "2.Remove an Animal\n",
      "3. View Animals in Shelter\n",
      "4. Exit\n"
     ]
    },
    {
     "name": "stdin",
     "output_type": "stream",
     "text": [
      "Enter your choice (1-4):  4\n"
     ]
    },
    {
     "name": "stdout",
     "output_type": "stream",
     "text": [
      " Exiting the program. Goodbye!\n"
     ]
    }
   ],
   "source": [
    "def manage_shelter(shelter):\n",
    "    while True:\n",
    "        print(\"\\n Pet Shelter Management System\")\n",
    "        print(\"1. Add an Animal\")\n",
    "        print(\"2.Remove an Animal\")\n",
    "        print(\"3. View Animals in Shelter\")\n",
    "        print(\"4. Exit\")\n",
    "\n",
    "        choice = input(\"Enter your choice (1-4): \")\n",
    "\n",
    "        if choice == \"1\":\n",
    "            name = input(\"Enter animal's name: \")\n",
    "            age = int(input(\"Enter animal's age: \"))\n",
    "            breed = input(\"Enter breed: \")\n",
    "            health_status = input(\"Enter health status (Healthy/Sick): \")\n",
    "            species = input(\"Enter species (Dog/Cat): \")\n",
    "            shelter.add_animal(name, age, breed, health_status, species)\n",
    "            print(f\" {name} has been added to the shelter.\")\n",
    "\n",
    "        elif choice == \"2\":\n",
    "            name = input(\"Enter the name of the animal to remove: \")\n",
    "            shelter.remove_animal(name)\n",
    "            print(f\" {name} has been removed from the shelter.\")\n",
    "\n",
    "        elif choice == \"3\":\n",
    "            animals = shelter.list_animals()\n",
    "            if animals:\n",
    "                print(\"\\n Animals in Shelter:\")\n",
    "                for animal in animals:\n",
    "                    print(f\" {animal.display_info()}\")\n",
    "            else:\n",
    "                print(\" The shelter is empty.\")\n",
    "\n",
    "        elif choice == \"4\":\n",
    "            print(\" Exiting the program. Goodbye!\")\n",
    "            break\n",
    "        \n",
    "        else:\n",
    "            print(\" Invalid choice! Please enter a number from 1 to 4.\")%load\n",
    "shelter = Shelter()\n",
    "\n",
    "# Start the shelter management system\n",
    "manage_shelter(shelter)\n"
   ]
  },
  {
   "cell_type": "code",
   "execution_count": null,
   "id": "2cdbe43a-1758-4f6d-9221-386383d45425",
   "metadata": {},
   "outputs": [],
   "source": []
  }
 ],
 "metadata": {
  "kernelspec": {
   "display_name": "Python 3 (ipykernel)",
   "language": "python",
   "name": "python3"
  },
  "language_info": {
   "codemirror_mode": {
    "name": "ipython",
    "version": 3
   },
   "file_extension": ".py",
   "mimetype": "text/x-python",
   "name": "python",
   "nbconvert_exporter": "python",
   "pygments_lexer": "ipython3",
   "version": "3.13.2"
  }
 },
 "nbformat": 4,
 "nbformat_minor": 5
}
