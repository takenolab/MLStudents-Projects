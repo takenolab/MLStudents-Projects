{
 "cells": [
  {
   "cell_type": "code",
   "execution_count": 1,
   "id": "81f2e179-57ef-44e3-bc13-909401ce8d98",
   "metadata": {},
   "outputs": [],
   "source": [
    "def buy_airtime():\n",
    "    print(\"please select :\")\n",
    "    print(\"1.buy airtime\")\n",
    "    print(\"2.buy bundles\")\n",
    "    decision=int(input(\"Enter the number of your choice\"))\n",
    "    if decision==1:\n",
    "        number=int(input(\"type the phone number:\"))\n",
    "        amount=float(input(\"put in the amount:\"))\n",
    "        print(f\"you have successfully purchased air time of {amount} kwacha\")\n",
    "    elif decision==2:\n",
    "        print(\"1.internet bundle\")\n",
    "        print(\"2.voice bundle\")\n",
    "        print(\"3.my offer\")\n",
    "        print(\"4.sms bundle\")\n",
    "        print(\"5.cheza more fire\")\n",
    "        choice=int(input(\"which bundle do you want\"))\n",
    "        number=int(input(\"type the phone number to buy the bundle\"))\n",
    "        amount=float(input(\"put the amount of the bundle you want\"))\n",
    "        if choice==1:\n",
    "            print(f\"you have successfully purchase internet bundle of {amount} kwacha\")\n",
    "        elif choice==2:\n",
    "            print(f\"you have successfully purchased voice bundle of {amount} kwacha\")\n",
    "        elif choice==3:\n",
    "            print(f\"you have successfully paid {amount} for myoffer\")\n",
    "        elif choice==4:\n",
    "            print(f\"you have successfully purchase sms bundle worth {amount} kwacha\")\n",
    "        elif choice==5:\n",
    "            print(f\"you have successfully purchased cheza more fire worth {amount} kwacha\")\n",
    "        else:\n",
    "            print(\"INVALID OPTION CHOOSE FROM '1' TO '5'\")\n",
    "        \n",
    "    else:\n",
    "        print(\"invalid option prease choose '1' or '2' to continue\")\n",
    "        "
   ]
  },
  {
   "cell_type": "code",
   "execution_count": 2,
   "id": "3a65c535-4de9-4c74-b6da-44523ec772c3",
   "metadata": {},
   "outputs": [],
   "source": [
    "def send_money():\n",
    "    print(\"1.airtel number\")\n",
    "    print(\"2.airtel with withdraw fee\")\n",
    "    print(\"3.p2p reversal\")\n",
    "    print(\"4.TNM number\")\n",
    "    decision=int(input(\"Enter a number of your choice\"))\n",
    "    if decision==1 or decision==2 or decision==3 or decision==4:\n",
    "        print(\"you can now put in the phone number\")\n",
    "        number=int(input(\"type the phone number\"))\n",
    "        amount=float(input(\"put the amount:\"))\n",
    "        print(f\"you have succefully sent {amount} kwacha only to {number}\")\n",
    "    else:\n",
    "        print(\"INVALID OPTION CHOOSE FROM '1' TO '4'\")\n",
    "        "
   ]
  },
  {
   "cell_type": "code",
   "execution_count": 3,
   "id": "f6a1705c-4111-4b72-af8b-fb0f62d63f4d",
   "metadata": {},
   "outputs": [],
   "source": [
    "def make_payments():\n",
    "    print(\"1.make payments\")\n",
    "    print(\"2.retailer stock purchase\")\n",
    "    print(\"3.retailer stock purchase new\")\n",
    "    print(\"4.buy goods and servises\")\n",
    "    decision=int(input(\"Enter the number of your choice\"))\n",
    "    if decision==1 or decision==2 or decision==3 or decision==4:\n",
    "        print(\"you can continue your payment\")\n",
    "        reason=input(\"what do you want to pay for:\")\n",
    "        amount=float(input(\"put in the amount for the payment:\"))\n",
    "        print(f\" you have successfully payed for {reason} with the amount of {amount} kwacha\")\n",
    "    else:\n",
    "        print(\"INVALID OPTION PLEASE CHOOSE FROM '1' TO '4'\")\n",
    "        \n",
    "    "
   ]
  },
  {
   "cell_type": "code",
   "execution_count": 4,
   "id": "816cfc2f-5e9f-4c9b-bc3c-eab703f2f16a",
   "metadata": {},
   "outputs": [],
   "source": [
    "def withdraw_money():\n",
    "    print(\"use the agent code\")\n",
    "    code=int(input(\"Enter the agent code\"))\n",
    "    amount=float(input(\"Enter the amaount\"))\n",
    "    print(f\"to withdraw {amount} kwacha you have to put your pin\")\n",
    "    pin=int(input(\"Enter your pin:\"))\n",
    "    print (\"you have withdrown \",amount,\" kwacha only!!\")"
   ]
  },
  {
   "cell_type": "code",
   "execution_count": 5,
   "id": "e008f5b3-b4f3-4a9b-ad3f-1bd27cc7974a",
   "metadata": {},
   "outputs": [],
   "source": [
    "def bank():\n",
    "    print('1.ECO Bank')\n",
    "    print(\"2.FDH Bank\")\n",
    "    print(\"3.First capita Bank\")\n",
    "    print(\"4.NBS Bank\")\n",
    "    print(\"5.Standard Bank\")\n",
    "    print(\"6.National Bank\")\n",
    "    print(\"7.Finca\")\n",
    "    print(\"8.CDH Bank\")\n",
    "    print(\"9. centenary Bank\")\n",
    "    decision=int(input(\"choose the bank you want\"))\n",
    "    if decision==1 or decision==2 or decision==3 or decision==4 or decision==5 or decision==6 or decision==7 or decision==8:\n",
    "        print(\"welcome to your favourite bank fill in the following:\")\n",
    "        account=input(\"type your account number:\")\n",
    "        amount=float(input(\"type the amount needed:\"))\n",
    "        print(f\"to withdraw {amount} kwacha please enter the pin below\")\n",
    "        pin=int(input(\"Enter your pin\"))\n",
    "    else:\n",
    "        print(\"INVALID OPTION PLEASE CHOOSE FROM '1' TO '8'\")"
   ]
  },
  {
   "cell_type": "code",
   "execution_count": 6,
   "id": "8a5fca37-7f6b-4519-8f53-10015c397c4d",
   "metadata": {},
   "outputs": [],
   "source": [
    "def maneb():\n",
    "    print(\"use the invoice number\")\n",
    "    print(\"1.standard 8\")\n",
    "    print(\"2.form 2\")\n",
    "    print(\"3.form 4\")\n",
    "    room=int(input(\"choose the class\"))\n",
    "    if room==1 or room==2 or room==3:\n",
    "        print(\"now fill the following\")\n",
    "        invoice=input(\"type the invoice number for the candidate\")\n",
    "        school=input(\"type the name of the school\")\n",
    "        amount=float(input(\"type the amount of the fee\"))\n",
    "        print(f\" you have successfully paid the examination fee for candidate number: {invoice} with {amount} kwacha\")\n",
    "    else:\n",
    "        print(\"INVALID OPTION CHOOSE FROM '1' TO '3'\")"
   ]
  },
  {
   "cell_type": "code",
   "execution_count": 7,
   "id": "66ee4f37-9475-44c9-a91b-67189454556a",
   "metadata": {},
   "outputs": [],
   "source": [
    "air_account={\"balance\":00.0}"
   ]
  },
  {
   "cell_type": "code",
   "execution_count": 8,
   "id": "79ef9e1f-8f9a-418e-ab04-fc11564b96df",
   "metadata": {},
   "outputs": [],
   "source": [
    "def account():\n",
    "    print(\"1.my pin\")\n",
    "    print(\"2.reports\")\n",
    "    print(\"3.check balance\")\n",
    "    print(\"4.manage favorites\")\n",
    "    print(\"5 my transactions reversal\")\n",
    "    print(\"6. change language\")\n",
    "    decision=int(input(\"choose what you want to do:\"))\n",
    "    if decision==1:\n",
    "        print(\"1.forgot pin\")\n",
    "        print(\"2.change pin\")\n",
    "        choice=int(input(\"choose a number\"))\n",
    "        if choice==1:\n",
    "            new_pin=int(input(\"type the new pin\"))\n",
    "            print(f\"your new pin is {new_pin}\")\n",
    "        elif choice==2:\n",
    "            old_pin=int(input(\"type the old pin\"))\n",
    "            pin=int(input(\"type the new pin\"))\n",
    "            print(f\"your pin has changed from {old_pin} to {pin}\")\n",
    "        else:\n",
    "            print(\"INVALID OPTION CHOOSE FROM '1' TO '2' \")\n",
    "    elif decision==2:\n",
    "        print(\"no transactions latery\")\n",
    "    elif decision==3:\n",
    "        pin=int(input(\"type the pin\"))\n",
    "        print(\" dear customer you have \",air_account[\"balance\"], \"kwacha in your account\")\n",
    "    elif decision==4 or decision==5 or decision==6:\n",
    "        print(\"still processing this ......\")\n",
    "        print(\"try later please....\")\n",
    "    else:\n",
    "        print(\"INVALID OPTION CHOOSE FROM '1' TO '6'\")\n",
    "        \n",
    "        \n",
    "        \n",
    "            "
   ]
  },
  {
   "cell_type": "code",
   "execution_count": 9,
   "id": "927dfc5e-e0f8-4cdf-a341-b001176524d0",
   "metadata": {},
   "outputs": [],
   "source": [
    "def financial_services():\n",
    "    print(\"1. loarn\")\n",
    "    print(\"2.insurance\")\n",
    "    decision=int(input(\"type the choice\"))\n",
    "    if decision==1:\n",
    "        print(\"welcome to our loarn giving\")\n",
    "        amount=float(input(\"type the amount you want\"))\n",
    "        fee=amount*0.3\n",
    "        total=amount+fee\n",
    "        print(f'you have successfully lent {amount} kwacha from us and you are requared to pay {total} kwacha only with 30% interest')\n",
    "    elif decision==2:\n",
    "        print(\"1.life insurance\")\n",
    "        print(\"2.item insurance\")\n",
    "        print(\"3. building insurance\")\n",
    "        choice=int(input(\"type the choosen number\"))\n",
    "        if choice==1 or choice==2 or choice==3:\n",
    "            print(\"stil processing ....\")\n",
    "            print(\"it will take time..try again\")\n",
    "        else:\n",
    "            print(\"INVALID CHOICE CHOOSE FROM '1' TO '3'\")\n",
    "    else:\n",
    "        print(\"INVALID CHOICE CHOOSE BETWEEN '1' AND '2'\")\n",
    "        "
   ]
  },
  {
   "cell_type": "code",
   "execution_count": 10,
   "id": "93ebe1cf-deb6-4db8-8f8b-0d78e8311149",
   "metadata": {},
   "outputs": [],
   "source": [
    "def airtel_money():\n",
    "    print(\"Enter the code *211# for the options\")\n",
    "    code=input(\"type the code:\")\n",
    "    if code==\"*211#\":\n",
    "        while True:\n",
    "            print(\"1.buy bundle/airtime\")\n",
    "            print(\"2.send money\")\n",
    "            print(\"3.make payments\")\n",
    "            print('4.withdraw money')\n",
    "            print(\"5.financial services\")\n",
    "            print(\"6.Bank\")\n",
    "            print(\"7.MANEB\")\n",
    "            print(\"8.account\")\n",
    "            print(\"9.exit\")\n",
    "            menu=int(input(\"choose what you want to do \"))\n",
    "            if menu==1:\n",
    "                buy_airtime()\n",
    "            elif menu==2:\n",
    "                send_money()\n",
    "            elif menu==3:\n",
    "                make_payments()\n",
    "            elif menu==4:\n",
    "                withdraw_money()\n",
    "            elif menu==5:\n",
    "                financial_services()\n",
    "            elif menu==6:\n",
    "                bank()\n",
    "            elif menu==7:\n",
    "                maneb()\n",
    "            elif menu==8:\n",
    "                 account()\n",
    "            elif menu==9:\n",
    "                print(\"Exiting the program......\")\n",
    "                break\n",
    "            else:\n",
    "                print(\"invalid option choose from '1' to '9'\")\n",
    "    else:\n",
    "        print(\"wrong code the code is *211#..\")"
   ]
  },
  {
   "cell_type": "code",
   "execution_count": 16,
   "id": "c59656a5-1abd-4144-896a-9151a71b09d4",
   "metadata": {},
   "outputs": [
    {
     "name": "stdout",
     "output_type": "stream",
     "text": [
      "Enter the code *211# for the options\n"
     ]
    },
    {
     "name": "stdin",
     "output_type": "stream",
     "text": [
      "type the code: *211#\n"
     ]
    },
    {
     "name": "stdout",
     "output_type": "stream",
     "text": [
      "1.buy bundle/airtime\n",
      "2.send money\n",
      "3.make payments\n",
      "4.withdraw money\n",
      "5.financial services\n",
      "6.Bank\n",
      "7.MANEB\n",
      "8.account\n",
      "9.exit\n"
     ]
    },
    {
     "name": "stdin",
     "output_type": "stream",
     "text": [
      "choose what you want to do  9\n"
     ]
    },
    {
     "name": "stdout",
     "output_type": "stream",
     "text": [
      "Exiting the program......\n"
     ]
    }
   ],
   "source": [
    "airtel_money()"
   ]
  },
  {
   "cell_type": "code",
   "execution_count": null,
   "id": "dc81f007-4201-4a7f-9926-6450aa520ca6",
   "metadata": {},
   "outputs": [],
   "source": []
  }
 ],
 "metadata": {
  "kernelspec": {
   "display_name": "Python 3 (ipykernel)",
   "language": "python",
   "name": "python3"
  },
  "language_info": {
   "codemirror_mode": {
    "name": "ipython",
    "version": 3
   },
   "file_extension": ".py",
   "mimetype": "text/x-python",
   "name": "python",
   "nbconvert_exporter": "python",
   "pygments_lexer": "ipython3",
   "version": "3.13.2"
  }
 },
 "nbformat": 4,
 "nbformat_minor": 5
}
