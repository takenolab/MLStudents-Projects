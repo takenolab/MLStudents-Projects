{
 "cells": [
  {
   "cell_type": "code",
   "execution_count": 1,
   "id": "f2c7d639",
   "metadata": {},
   "outputs": [],
   "source": [
    "import tensorflow as tf\n",
    "import os \n",
    "import xml.etree.ElementTree as ET\n",
    "import numpy as np\n",
    "from tensorflow.keras.callbacks import ModelCheckpoint,EarlyStopping\n",
    "from tensorflow.keras.layers import Input,GlobalMaxPooling2D,Dense\n"
   ]
  },
  {
   "cell_type": "code",
   "execution_count": 8,
   "id": "74946066",
   "metadata": {},
   "outputs": [],
   "source": [
    "image_directory='images'\n",
    "annotation_dir='Annotations'\n",
    "classes={'english_springer':0,'westhighland_terrier':1,'irish_wolfhound':2,'bull_mastiff':3,'whippet':4}"
   ]
  },
  {
   "cell_type": "code",
   "execution_count": 10,
   "id": "105590e8",
   "metadata": {},
   "outputs": [],
   "source": [
    "def parse_voc_annotations(annotation_dir,image_directory,classes):\n",
    "    img_path=[]\n",
    "    bbox_data=[]\n",
    "    class_labels=[]\n",
    "    for xml_file in sorted(os.listdir(annotation_dir)):\n",
    "        if not xml_file.endswith('.xml'):\n",
    "            print(xml_file)\n",
    "            # continue\n",
    "        \n",
    "        # tree=ET.parse(os.path.join(annotation_dir,xml_file))\n",
    "        # print(tree)\n",
    "        # root= tree.getroot()\n",
    "        # # print(root)\n",
    "        # img_file_name=root.find('filename').text\n",
    "        # # print(img_file_name)\n",
    "        # path=os.path.join(image_directory,img_file_name)\n",
    "        # # print(path)\n",
    "        # size=root.find('size')\n",
    "        # # print(size)\n",
    "        # img_width=int(size.find('width').text)\n",
    "        # # print(img_width)\n",
    "        # img_height=int(size.find('height').text)\n",
    "\n",
    "        # objects=root.find('object')\n",
    "        # # print(objects)\n",
    "        # if objects is not None:\n",
    "        #     class_name=objects.find('name').text\n",
    "        #     # print(class_name)\n",
    "        #     if class_name not in classes:\n",
    "        #         continue\n",
    "        #     # img_path.append(class_name)\n",
    "        #     class_id=classes[class_name]\n",
    "        #     # print(class_id)\n",
    "\n",
    "        #     bnbox=objects.find('bndbox')\n",
    "            # xmin=float(bnbox.find('xmin').text) / img_width\n",
    "            # ymin=float(bnbox.find('ymin').text) / img_height\n",
    "            # xmax=float(bnbox.find('xmax').text) / img_width\n",
    "            # ymax=float(bnbox.find('ymax').text) / img_height\n",
    "            # img_path.append(path)\n",
    "            # bbox_data.append([xmin, ymin, xmax, ymax])\n",
    "            # class_labels.append(class_id)\n",
    "    # return img_path,bbox_data,class_labels\n",
    "\n"
   ]
  },
  {
   "cell_type": "code",
   "execution_count": 11,
   "id": "80de4ce0",
   "metadata": {},
   "outputs": [],
   "source": [
    "parse_voc_annotations(annotation_dir=annotation_dir,image_directory=image_directory,classes=classes)"
   ]
  },
  {
   "cell_type": "code",
   "execution_count": 30,
   "id": "f3788def",
   "metadata": {},
   "outputs": [],
   "source": [
    "img_path,bnbox_data,class_labels=parse_voc_annotations(annotation_dir=annotation_dir,image_directory=image_directory,classes=classes)\n",
    "img_path=tf.constant(img_path)\n",
    "bnbox_data=tf.constant(bnbox_data,dtype=tf.float32)\n",
    "class_labels=tf.constant(class_labels,dtype=tf.int32)"
   ]
  },
  {
   "cell_type": "code",
   "execution_count": 31,
   "id": "df26cb24",
   "metadata": {},
   "outputs": [
    {
     "data": {
      "text/plain": [
       "<tf.Tensor: shape=(160,), dtype=string, numpy=\n",
       "array([b'images\\\\0123c356-irish_wolfhound_20.jpg',\n",
       "       b'images\\\\02f775b8-english_springer_6.jpg',\n",
       "       b'images\\\\0348655e-english_springer_27.jpg',\n",
       "       b'images\\\\03cdf529-irish_wolfhound_16.jpg',\n",
       "       b'images\\\\054b16ed-english_springer_31.jpg',\n",
       "       b'images\\\\06d7520a-bull_mastiff_6.jpg',\n",
       "       b'images\\\\08a05225-irish_wolfhound_17.jpg',\n",
       "       b'images\\\\08cc69b3-english_springer_3.jpg',\n",
       "       b'images\\\\093a451b-whippet_77.jpg',\n",
       "       b'images\\\\09e772ce-english_springer_24.jpg',\n",
       "       b'images\\\\0b3e051b-whippet_93.jpg',\n",
       "       b'images\\\\0cb2a82d-whippet_92.jpg',\n",
       "       b'images\\\\0f72e9ec-english_springer_35.jpg',\n",
       "       b'images\\\\146a3c29-whippet_99.jpg',\n",
       "       b'images\\\\16207c28-irish_wolfhound_23.jpg',\n",
       "       b'images\\\\1d530f65-irish_wolfhound_37.jpg',\n",
       "       b'images\\\\1dc190c7-whippet_83.jpg',\n",
       "       b'images\\\\1e7b8aab-english_springer_42.jpg',\n",
       "       b'images\\\\1eaa750f-bull_mastiff_39.jpg',\n",
       "       b'images\\\\1ef0ed4f-english_springer_26.jpg',\n",
       "       b'images\\\\2194e49a-bull_mastiff_33.jpg',\n",
       "       b'images\\\\21b8ba9e-english_springer_28.jpg',\n",
       "       b'images\\\\25190a2d-english_springer_22.jpg',\n",
       "       b'images\\\\263f289c-irish_wolfhound_27.jpg',\n",
       "       b'images\\\\29d0682e-english_springer_50.jpg',\n",
       "       b'images\\\\2b62618e-irish_wolfhound_29.jpg',\n",
       "       b'images\\\\2cad7695-whippet_5.jpg',\n",
       "       b'images\\\\2e32ac5f-irish_wolfhound_34.jpg',\n",
       "       b'images\\\\301a03ca-english_springer_21.jpg',\n",
       "       b'images\\\\31cb3253-irish_wolfhound_5.jpg',\n",
       "       b'images\\\\329b4963-bull_mastiff_26.jpg',\n",
       "       b'images\\\\346bd414-whippet_80.jpg',\n",
       "       b'images\\\\37ff6139-irish_wolfhound_38.jpg',\n",
       "       b'images\\\\38055054-whippet_96.jpg',\n",
       "       b'images\\\\38f10bc9-whippet_73.jpg',\n",
       "       b'images\\\\3ae3bfb3-english_springer_25.jpg',\n",
       "       b'images\\\\3d38dd0f-irish_wolfhound_31.jpg',\n",
       "       b'images\\\\408ac114-bull_mastiff_15.jpg',\n",
       "       b'images\\\\40d405c5-bull_mastiff_35.jpg',\n",
       "       b'images\\\\4224c02b-english_springer_44.jpg',\n",
       "       b'images\\\\46f7dbf2-irish_wolfhound_6.jpg',\n",
       "       b'images\\\\47037d77-irish_wolfhound_24.jpg',\n",
       "       b'images\\\\4b010a39-english_springer_30.jpg',\n",
       "       b'images\\\\4e09cbc4-english_springer_36.jpg',\n",
       "       b'images\\\\4f055a3d-irish_wolfhound_30.jpg',\n",
       "       b'images\\\\4f63f26d-whippet_8.jpg',\n",
       "       b'images\\\\50a169b3-whippet_2.jpg',\n",
       "       b'images\\\\50d81418-irish_wolfhound_14.jpg',\n",
       "       b'images\\\\51775621-whippet_76.jpg',\n",
       "       b'images\\\\521b32f6-whippet_89.jpg',\n",
       "       b'images\\\\54070032-bull_mastiff_19.jpg',\n",
       "       b'images\\\\5553d1ce-whippet_87.jpg',\n",
       "       b'images\\\\5651a386-bull_mastiff_11.jpg',\n",
       "       b'images\\\\58aa909b-irish_wolfhound_4.jpg',\n",
       "       b'images\\\\5d40ad79-irish_wolfhound_1.jpg',\n",
       "       b'images\\\\5d96bcf2-whippet_4.jpg',\n",
       "       b'images\\\\5dcc4ca8-bull_mastiff_7.jpg',\n",
       "       b'images\\\\600d6564-english_springer_39.jpg',\n",
       "       b'images\\\\66c5f8b3-english_springer_4.jpg',\n",
       "       b'images\\\\67027ab9-irish_wolfhound_32.jpg',\n",
       "       b'images\\\\673d9dcc-whippet_78.jpg',\n",
       "       b'images\\\\678b5c13-bull_mastiff_25.jpg',\n",
       "       b'images\\\\68e821b6-english_springer_38.jpg',\n",
       "       b'images\\\\690b1cb9-whippet_84.jpg',\n",
       "       b'images\\\\6932444d-whippet_12.jpg',\n",
       "       b'images\\\\6a1ab30a-bull_mastiff_18.jpg',\n",
       "       b'images\\\\6a78d1fc-whippet_97.jpg',\n",
       "       b'images\\\\6a88f64d-bull_mastiff_30.jpg',\n",
       "       b'images\\\\6fab7ae6-irish_wolfhound_36.jpg',\n",
       "       b'images\\\\70fc2c92-irish_wolfhound_26.jpg',\n",
       "       b'images\\\\7133ba12-bull_mastiff_2.jpg',\n",
       "       b'images\\\\722520d8-bull_mastiff_16.jpg',\n",
       "       b'images\\\\723c7b53-whippet_91.jpg',\n",
       "       b'images\\\\751f8029-whippet_98.jpg',\n",
       "       b'images\\\\7838ffdf-bull_mastiff_13.jpg',\n",
       "       b'images\\\\7b352471-bull_mastiff_20.jpg',\n",
       "       b'images\\\\7bac46df-whippet_9.jpg',\n",
       "       b'images\\\\7dafc642-english_springer_37.jpg',\n",
       "       b'images\\\\7dd637d2-bull_mastiff_27.jpg',\n",
       "       b'images\\\\7e1226be-whippet_7.jpg',\n",
       "       b'images\\\\80c05668-english_springer_29.jpg',\n",
       "       b'images\\\\80ff91b7-bull_mastiff_32.jpg',\n",
       "       b'images\\\\837585b5-whippet_81.jpg',\n",
       "       b'images\\\\8442aab8-irish_wolfhound_2.jpg',\n",
       "       b'images\\\\856ce08d-irish_wolfhound_39.jpg',\n",
       "       b'images\\\\8641d26d-english_springer_32.jpg',\n",
       "       b'images\\\\867fc7c1-whippet_3.jpg',\n",
       "       b'images\\\\8754ce60-english_springer_49.jpg',\n",
       "       b'images\\\\883ec82c-bull_mastiff_22.jpg',\n",
       "       b'images\\\\8a181028-bull_mastiff_28.jpg',\n",
       "       b'images\\\\8c64a0b5-english_springer_48.jpg',\n",
       "       b'images\\\\8f944285-irish_wolfhound_7.jpg',\n",
       "       b'images\\\\928ef5e1-english_springer_51.jpg',\n",
       "       b'images\\\\933a7e0b-bull_mastiff_1.jpg',\n",
       "       b'images\\\\94e4150a-whippet_74.jpg',\n",
       "       b'images\\\\96ecbaf7-bull_mastiff_36.jpg',\n",
       "       b'images\\\\985703a0-english_springer_7.jpg',\n",
       "       b'images\\\\98889629-bull_mastiff_37.jpg',\n",
       "       b'images\\\\9c8d2784-irish_wolfhound_28.jpg',\n",
       "       b'images\\\\9cb06c30-bull_mastiff_38.jpg',\n",
       "       b'images\\\\9fefa373-whippet_85.jpg',\n",
       "       b'images\\\\a0204a49-irish_wolfhound_10.jpg',\n",
       "       b'images\\\\a155bb49-english_springer_33.jpg',\n",
       "       b'images\\\\a1cef85c-irish_wolfhound_33.jpg',\n",
       "       b'images\\\\a27f9a70-irish_wolfhound_40.jpg',\n",
       "       b'images\\\\a3dd8462-english_springer_47.jpg',\n",
       "       b'images\\\\a6bd95ab-whippet_11.jpg',\n",
       "       b'images\\\\a8bdd4bf-english_springer_2.jpg',\n",
       "       b'images\\\\aa1fd2db-irish_wolfhound_13.jpg',\n",
       "       b'images\\\\aa2ed80c-bull_mastiff_34.jpg',\n",
       "       b'images\\\\abc72997-whippet_72.jpg',\n",
       "       b'images\\\\ac5f1176-irish_wolfhound_21.jpg',\n",
       "       b'images\\\\adc0f790-whippet_88.jpg',\n",
       "       b'images\\\\b387d3fb-whippet_90.jpg',\n",
       "       b'images\\\\b3eaa096-english_springer_20.jpg',\n",
       "       b'images\\\\b49317e9-bull_mastiff_8.jpg',\n",
       "       b'images\\\\b4b46d6e-bull_mastiff_10.jpg',\n",
       "       b'images\\\\b7cff271-whippet_79.jpg',\n",
       "       b'images\\\\b9a2b981-irish_wolfhound_11.jpg',\n",
       "       b'images\\\\b9d32887-irish_wolfhound_3.jpg',\n",
       "       b'images\\\\bd169100-irish_wolfhound_9.jpg',\n",
       "       b'images\\\\bef4da58-irish_wolfhound_35.jpg',\n",
       "       b'images\\\\bf20e2db-english_springer_40.jpg',\n",
       "       b'images\\\\c1582d92-bull_mastiff_29.jpg',\n",
       "       b'images\\\\c5f5da74-english_springer_5.jpg',\n",
       "       b'images\\\\cb3a62cc-english_springer_23.jpg',\n",
       "       b'images\\\\cce60f1f-whippet_82.jpg',\n",
       "       b'images\\\\cd3185cf-bull_mastiff_9.jpg',\n",
       "       b'images\\\\cfa3be28-irish_wolfhound_8.jpg',\n",
       "       b'images\\\\cfddbb19-irish_wolfhound_19.jpg',\n",
       "       b'images\\\\d08acecd-whippet_86.jpg',\n",
       "       b'images\\\\d205b363-whippet_95.jpg',\n",
       "       b'images\\\\d3cc5d76-bull_mastiff_17.jpg',\n",
       "       b'images\\\\d470f6c7-bull_mastiff_24.jpg',\n",
       "       b'images\\\\d490e878-bull_mastiff_3.jpg',\n",
       "       b'images\\\\d50430b5-irish_wolfhound_25.jpg',\n",
       "       b'images\\\\d66556a9-bull_mastiff_40.jpg',\n",
       "       b'images\\\\d66f9a7a-whippet_75.jpg',\n",
       "       b'images\\\\d93f4c7e-whippet_1.jpg',\n",
       "       b'images\\\\d9651a00-bull_mastiff_31.jpg',\n",
       "       b'images\\\\da287d09-english_springer_43.jpg',\n",
       "       b'images\\\\dc68a754-english_springer_41.jpg',\n",
       "       b'images\\\\dcb627b6-english_springer_8.jpg',\n",
       "       b'images\\\\dccd68f1-bull_mastiff_21.jpg',\n",
       "       b'images\\\\dcfd0094-bull_mastiff_12.jpg',\n",
       "       b'images\\\\dddfbd8b-english_springer_46.jpg',\n",
       "       b'images\\\\df018377-bull_mastiff_5.jpg',\n",
       "       b'images\\\\e0f3ebb3-whippet_94.jpg',\n",
       "       b'images\\\\e3fca2f7-english_springer_45.jpg',\n",
       "       b'images\\\\e4330497-bull_mastiff_4.jpg',\n",
       "       b'images\\\\e4fdf640-whippet_6.jpg',\n",
       "       b'images\\\\e83165d6-irish_wolfhound_12.jpg',\n",
       "       b'images\\\\eb83ca55-irish_wolfhound_22.jpg',\n",
       "       b'images\\\\f2f59531-english_springer_9.jpg',\n",
       "       b'images\\\\f37e1446-whippet_10.jpg',\n",
       "       b'images\\\\f5a3df13-bull_mastiff_23.jpg',\n",
       "       b'images\\\\f6065403-irish_wolfhound_15.jpg',\n",
       "       b'images\\\\fbd5b57a-english_springer_34.jpg',\n",
       "       b'images\\\\fc22561b-irish_wolfhound_18.jpg',\n",
       "       b'images\\\\feefdc17-bull_mastiff_14.jpg'], dtype=object)>"
      ]
     },
     "execution_count": 31,
     "metadata": {},
     "output_type": "execute_result"
    }
   ],
   "source": [
    "img_path"
   ]
  },
  {
   "cell_type": "code",
   "execution_count": 39,
   "id": "7502a82f",
   "metadata": {},
   "outputs": [],
   "source": [
    "def load_and_preprocess_image(path, bbox, label):\n",
    "    image = tf.io.read_file(path)\n",
    "    image = tf.image.decode_jpeg(image, channels=3)\n",
    "    image.set_shape([None, None, 3])\n",
    "    image = tf.image.resize(image, [128, 128])\n",
    "    label_encode = tf.one_hot(label, depth=len(classes))\n",
    "    image = image / 255.0\n",
    "    return image, {\"class_output\": label_encode, \"box_output\": bbox}\n",
    "\n",
    "dataset= tf.data.Dataset.from_tensor_slices((img_path, bnbox_data, class_labels))\n",
    "dataset = dataset.map(load_and_preprocess_image, num_parallel_calls=tf.data.AUTOTUNE)\n",
    "\n",
    "\n",
    "dataset = dataset.shuffle(buffer_size=196).batch(10).prefetch(tf.data.AUTOTUNE)\n",
    "\n",
    "\n",
    "DATASET_SIZE = len(img_path)\n",
    "train_size = int(0.8 * DATASET_SIZE)\n",
    "train_ds = dataset.take(train_size)\n",
    "val_ds = dataset.take(train_size)"
   ]
  },
  {
   "cell_type": "code",
   "execution_count": 40,
   "id": "84404644",
   "metadata": {},
   "outputs": [
    {
     "name": "stdout",
     "output_type": "stream",
     "text": [
      "img_path length: 160\n",
      "bnbox_data length: 160\n",
      "class_labels length: 160\n"
     ]
    }
   ],
   "source": [
    "print(f\"img_path length: {len(img_path)}\")\n",
    "print(f\"bnbox_data length: {len(bnbox_data)}\")\n",
    "print(f\"class_labels length: {len(class_labels)}\")\n"
   ]
  },
  {
   "cell_type": "code",
   "execution_count": 41,
   "id": "6259bfcc",
   "metadata": {},
   "outputs": [],
   "source": [
    "base_model=tf.keras.applications.MobileNetV2(\n",
    "    input_shape=(128,128,3),\n",
    "    include_top=False,\n",
    "    weights='imagenet'\n",
    ")\n",
    "base_model.trainable=False"
   ]
  },
  {
   "cell_type": "code",
   "execution_count": 42,
   "id": "0e6dae2b",
   "metadata": {},
   "outputs": [],
   "source": [
    "input=Input(shape=(128,128,3))\n",
    "\n",
    "# x=tf.keras.layers.RandomZoom(0.1)\n",
    "# x=tf.keras.layers.RandomBrightness(0.2)(x)\n",
    "# x=tf.keras.layers.RandomFlip('vertical and horizontal')(x)\n",
    "# x=tf.keras.layers.Rescaling(1./255)(x)\n",
    "x=base_model(input)\n",
    "\n",
    "x=GlobalMaxPooling2D()(x)\n",
    "\n",
    "\n",
    "class_output=tf.keras.layers.Dense(30,activation='relu')(x)\n",
    "class_output=tf.keras.layers.Dense(5,activation='softmax',name='class_output')(class_output)\n",
    "\n",
    "box_output=tf.keras.layers.Dense(30,activation='relu')(x)\n",
    "box_output=tf.keras.layers.Dense(4,activation='sigmoid',name='box_output')(box_output)\n",
    "\n",
    "detect_model=tf.keras.models.Model(inputs=input,outputs=[class_output,box_output])"
   ]
  },
  {
   "cell_type": "code",
   "execution_count": 44,
   "id": "9c95ab68",
   "metadata": {},
   "outputs": [],
   "source": [
    "detect_model.compile(\n",
    "    optimizer='adam',\n",
    "    loss={\n",
    "        \n",
    "        'class_output':'categorical_crossentropy',\n",
    "        'box_output':'mse'\n",
    "    },\n",
    "    metrics={\n",
    "        'class_output':'accuracy',\n",
    "        'box_output':'mse'\n",
    "    }\n",
    ")"
   ]
  },
  {
   "cell_type": "code",
   "execution_count": 45,
   "id": "fd78a18b",
   "metadata": {},
   "outputs": [
    {
     "name": "stdout",
     "output_type": "stream",
     "text": [
      "Epoch 1/10\n",
      "\u001b[1m16/16\u001b[0m \u001b[32m━━━━━━━━━━━━━━━━━━━━\u001b[0m\u001b[37m\u001b[0m \u001b[1m0s\u001b[0m 79ms/step - box_output_loss: 0.1077 - box_output_mse: 0.1077 - class_output_accuracy: 0.4555 - class_output_loss: 2.2193 - loss: 2.3269\n",
      "Epoch 1: val_class_output_loss improved from inf to 0.50703, saving model to dog_types.keras\n",
      "\u001b[1m16/16\u001b[0m \u001b[32m━━━━━━━━━━━━━━━━━━━━\u001b[0m\u001b[37m\u001b[0m \u001b[1m9s\u001b[0m 295ms/step - box_output_loss: 0.1048 - box_output_mse: 0.1048 - class_output_accuracy: 0.4648 - class_output_loss: 2.1726 - loss: 2.2774 - val_box_output_loss: 0.0336 - val_box_output_mse: 0.0336 - val_class_output_accuracy: 0.8500 - val_class_output_loss: 0.5070 - val_loss: 0.5407\n",
      "Epoch 2/10\n",
      "\u001b[1m16/16\u001b[0m \u001b[32m━━━━━━━━━━━━━━━━━━━━\u001b[0m\u001b[37m\u001b[0m \u001b[1m0s\u001b[0m 64ms/step - box_output_loss: 0.0354 - box_output_mse: 0.0354 - class_output_accuracy: 0.8415 - class_output_loss: 0.5903 - loss: 0.6257\n",
      "Epoch 2: val_class_output_loss improved from 0.50703 to 0.10347, saving model to dog_types.keras\n",
      "\u001b[1m16/16\u001b[0m \u001b[32m━━━━━━━━━━━━━━━━━━━━\u001b[0m\u001b[37m\u001b[0m \u001b[1m2s\u001b[0m 146ms/step - box_output_loss: 0.0353 - box_output_mse: 0.0353 - class_output_accuracy: 0.8442 - class_output_loss: 0.5750 - loss: 0.6103 - val_box_output_loss: 0.0328 - val_box_output_mse: 0.0328 - val_class_output_accuracy: 0.9688 - val_class_output_loss: 0.1035 - val_loss: 0.1363\n",
      "Epoch 3/10\n",
      "\u001b[1m15/16\u001b[0m \u001b[32m━━━━━━━━━━━━━━━━━━\u001b[0m\u001b[37m━━\u001b[0m \u001b[1m0s\u001b[0m 49ms/step - box_output_loss: 0.0292 - box_output_mse: 0.0292 - class_output_accuracy: 0.9518 - class_output_loss: 0.1187 - loss: 0.1479\n",
      "Epoch 3: val_class_output_loss improved from 0.10347 to 0.02722, saving model to dog_types.keras\n",
      "\u001b[1m16/16\u001b[0m \u001b[32m━━━━━━━━━━━━━━━━━━━━\u001b[0m\u001b[37m\u001b[0m \u001b[1m2s\u001b[0m 121ms/step - box_output_loss: 0.0296 - box_output_mse: 0.0296 - class_output_accuracy: 0.9552 - class_output_loss: 0.1134 - loss: 0.1431 - val_box_output_loss: 0.0317 - val_box_output_mse: 0.0317 - val_class_output_accuracy: 1.0000 - val_class_output_loss: 0.0272 - val_loss: 0.0589\n",
      "Epoch 4/10\n",
      "\u001b[1m16/16\u001b[0m \u001b[32m━━━━━━━━━━━━━━━━━━━━\u001b[0m\u001b[37m\u001b[0m \u001b[1m0s\u001b[0m 55ms/step - box_output_loss: 0.0303 - box_output_mse: 0.0303 - class_output_accuracy: 1.0000 - class_output_loss: 0.0290 - loss: 0.0593\n",
      "Epoch 4: val_class_output_loss improved from 0.02722 to 0.01362, saving model to dog_types.keras\n",
      "\u001b[1m16/16\u001b[0m \u001b[32m━━━━━━━━━━━━━━━━━━━━\u001b[0m\u001b[37m\u001b[0m \u001b[1m2s\u001b[0m 129ms/step - box_output_loss: 0.0304 - box_output_mse: 0.0304 - class_output_accuracy: 1.0000 - class_output_loss: 0.0287 - loss: 0.0591 - val_box_output_loss: 0.0306 - val_box_output_mse: 0.0306 - val_class_output_accuracy: 1.0000 - val_class_output_loss: 0.0136 - val_loss: 0.0442\n",
      "Epoch 5/10\n",
      "\u001b[1m15/16\u001b[0m \u001b[32m━━━━━━━━━━━━━━━━━━\u001b[0m\u001b[37m━━\u001b[0m \u001b[1m0s\u001b[0m 58ms/step - box_output_loss: 0.0356 - box_output_mse: 0.0356 - class_output_accuracy: 1.0000 - class_output_loss: 0.0137 - loss: 0.0493\n",
      "Epoch 5: val_class_output_loss improved from 0.01362 to 0.00867, saving model to dog_types.keras\n",
      "\u001b[1m16/16\u001b[0m \u001b[32m━━━━━━━━━━━━━━━━━━━━\u001b[0m\u001b[37m\u001b[0m \u001b[1m2s\u001b[0m 133ms/step - box_output_loss: 0.0350 - box_output_mse: 0.0350 - class_output_accuracy: 1.0000 - class_output_loss: 0.0135 - loss: 0.0484 - val_box_output_loss: 0.0295 - val_box_output_mse: 0.0295 - val_class_output_accuracy: 1.0000 - val_class_output_loss: 0.0087 - val_loss: 0.0382\n",
      "Epoch 6/10\n",
      "\u001b[1m16/16\u001b[0m \u001b[32m━━━━━━━━━━━━━━━━━━━━\u001b[0m\u001b[37m\u001b[0m \u001b[1m0s\u001b[0m 60ms/step - box_output_loss: 0.0290 - box_output_mse: 0.0290 - class_output_accuracy: 1.0000 - class_output_loss: 0.0086 - loss: 0.0375\n",
      "Epoch 6: val_class_output_loss improved from 0.00867 to 0.00636, saving model to dog_types.keras\n",
      "\u001b[1m16/16\u001b[0m \u001b[32m━━━━━━━━━━━━━━━━━━━━\u001b[0m\u001b[37m\u001b[0m \u001b[1m2s\u001b[0m 144ms/step - box_output_loss: 0.0289 - box_output_mse: 0.0289 - class_output_accuracy: 1.0000 - class_output_loss: 0.0085 - loss: 0.0375 - val_box_output_loss: 0.0292 - val_box_output_mse: 0.0292 - val_class_output_accuracy: 1.0000 - val_class_output_loss: 0.0064 - val_loss: 0.0356\n"
     ]
    },
    {
     "data": {
      "text/plain": [
       "<keras.src.callbacks.history.History at 0x171800fe270>"
      ]
     },
     "execution_count": 45,
     "metadata": {},
     "output_type": "execute_result"
    }
   ],
   "source": [
    "detect_model.fit(\n",
    "    train_ds,\n",
    "    epochs=10,\n",
    "    validation_data=val_ds,\n",
    "    callbacks=[\n",
    "        EarlyStopping(monitor='val_class_output_accuracy',patience=3,restore_best_weights=True,mode='max'),\n",
    "        ModelCheckpoint('dog_types.keras',monitor='val_class_output_loss',save_best_only=True,mode='min',verbose=1)\n",
    "    ]\n",
    "    \n",
    ")"
   ]
  },
  {
   "cell_type": "code",
   "execution_count": 13,
   "id": "8fc6f313",
   "metadata": {},
   "outputs": [],
   "source": [
    "from tensorflow.keras.utils import load_img, img_to_array\n",
    "import numpy as np\n"
   ]
  },
  {
   "cell_type": "code",
   "execution_count": 14,
   "id": "a0f3a212",
   "metadata": {},
   "outputs": [],
   "source": [
    "# img=\"datasets/bullmastiff1.jpg\"\n",
    "# print(img)"
   ]
  },
  {
   "cell_type": "code",
   "execution_count": 15,
   "id": "b106e093",
   "metadata": {},
   "outputs": [],
   "source": [
    "# image = load_img(img, target_size=(128,128))"
   ]
  },
  {
   "cell_type": "code",
   "execution_count": 16,
   "id": "f2a84a2a",
   "metadata": {},
   "outputs": [],
   "source": [
    "# img_array=tf.keras.utils.img_to_array(image)\n",
    "# norm=img_array/255.0\n",
    "# img_batch=np.expand_dims(norm,axis=0)"
   ]
  },
  {
   "cell_type": "code",
   "execution_count": 18,
   "id": "ead0718c",
   "metadata": {},
   "outputs": [],
   "source": [
    "classe=['english_springer','westhighland_terrier','irish_wolfhound','bull_mastiff','whippet']"
   ]
  },
  {
   "cell_type": "code",
   "execution_count": 19,
   "id": "4792b639",
   "metadata": {},
   "outputs": [],
   "source": [
    "# predicted_classes = [np.argmax(p) for p in dog_type]\n",
    "# predicted=predicted_classes[0]\n",
    "# final_output=classe[predicted]\n",
    "# print(final_output)\n"
   ]
  },
  {
   "cell_type": "code",
   "execution_count": 20,
   "id": "36b6d036",
   "metadata": {},
   "outputs": [],
   "source": [
    "import gradio as gr"
   ]
  },
  {
   "cell_type": "code",
   "execution_count": 46,
   "id": "3f65bee6",
   "metadata": {},
   "outputs": [],
   "source": [
    "from PIL import Image\n"
   ]
  },
  {
   "cell_type": "code",
   "execution_count": null,
   "id": "780bbcf6",
   "metadata": {},
   "outputs": [],
   "source": [
    "from PIL import Image\n"
   ]
  },
  {
   "cell_type": "code",
   "execution_count": 50,
   "id": "b2422f84",
   "metadata": {},
   "outputs": [
    {
     "name": "stdout",
     "output_type": "stream",
     "text": [
      "* Running on local URL:  http://127.0.0.1:7865\n",
      "* Running on public URL: https://793ff99d8b27e9ea19.gradio.live\n",
      "\n",
      "This share link expires in 1 week. For free permanent hosting and GPU upgrades, run `gradio deploy` from the terminal in the working directory to deploy to Hugging Face Spaces (https://huggingface.co/spaces)\n"
     ]
    },
    {
     "data": {
      "text/html": [
       "<div><iframe src=\"https://793ff99d8b27e9ea19.gradio.live\" width=\"100%\" height=\"500\" allow=\"autoplay; camera; microphone; clipboard-read; clipboard-write;\" frameborder=\"0\" allowfullscreen></iframe></div>"
      ],
      "text/plain": [
       "<IPython.core.display.HTML object>"
      ]
     },
     "metadata": {},
     "output_type": "display_data"
    },
    {
     "data": {
      "text/plain": []
     },
     "execution_count": 50,
     "metadata": {},
     "output_type": "execute_result"
    },
    {
     "name": "stdout",
     "output_type": "stream",
     "text": [
      "\u001b[1m1/1\u001b[0m \u001b[32m━━━━━━━━━━━━━━━━━━━━\u001b[0m\u001b[37m\u001b[0m \u001b[1m2s\u001b[0m 2s/step\n",
      "\u001b[1m1/1\u001b[0m \u001b[32m━━━━━━━━━━━━━━━━━━━━\u001b[0m\u001b[37m\u001b[0m \u001b[1m0s\u001b[0m 89ms/step\n",
      "\u001b[1m1/1\u001b[0m \u001b[32m━━━━━━━━━━━━━━━━━━━━\u001b[0m\u001b[37m\u001b[0m \u001b[1m0s\u001b[0m 264ms/step\n",
      "\u001b[1m1/1\u001b[0m \u001b[32m━━━━━━━━━━━━━━━━━━━━\u001b[0m\u001b[37m\u001b[0m \u001b[1m0s\u001b[0m 271ms/step\n",
      "\u001b[1m1/1\u001b[0m \u001b[32m━━━━━━━━━━━━━━━━━━━━\u001b[0m\u001b[37m\u001b[0m \u001b[1m0s\u001b[0m 256ms/step\n",
      "\u001b[1m1/1\u001b[0m \u001b[32m━━━━━━━━━━━━━━━━━━━━\u001b[0m\u001b[37m\u001b[0m \u001b[1m0s\u001b[0m 176ms/step\n",
      "\u001b[1m1/1\u001b[0m \u001b[32m━━━━━━━━━━━━━━━━━━━━\u001b[0m\u001b[37m\u001b[0m \u001b[1m0s\u001b[0m 70ms/step\n",
      "\u001b[1m1/1\u001b[0m \u001b[32m━━━━━━━━━━━━━━━━━━━━\u001b[0m\u001b[37m\u001b[0m \u001b[1m0s\u001b[0m 120ms/step\n",
      "\u001b[1m1/1\u001b[0m \u001b[32m━━━━━━━━━━━━━━━━━━━━\u001b[0m\u001b[37m\u001b[0m \u001b[1m0s\u001b[0m 73ms/step\n"
     ]
    }
   ],
   "source": [
    "def dog_type_prediction(imge):\n",
    "    img=imge.resize((128,128))\n",
    "    img_array=tf.keras.utils.img_to_array(img)\n",
    "    norm=img_array/255\n",
    "    img_batch=np.expand_dims(norm,axis=0)\n",
    "\n",
    "    dog_type=detect_model.predict(img_batch)\n",
    "    predicted_classes=[np.argmax(p) for p in dog_type]\n",
    "    predicted=predicted_classes[0]\n",
    "    return classe[predicted]\n",
    "    # return final_output\n",
    "\n",
    "interface=gr.Interface(\n",
    "    fn=dog_type_prediction,\n",
    "    inputs=gr.Image(type='pil'),\n",
    "    outputs=gr.Label(),\n",
    "    title='dog_type prediction model',\n",
    "    description='upload the dog image to see the output'\n",
    ")\n",
    "interface.launch(share=True)\n",
    "    \n"
   ]
  },
  {
   "cell_type": "code",
   "execution_count": null,
   "id": "61d211a8",
   "metadata": {},
   "outputs": [],
   "source": [
    "# def prediction(image):\n",
    "#     img=image.resize((128,128,3))\n",
    "#     img_array=tf.keras.utils.img_to_array(img)\n",
    "#     img_batch=np.expand_dims(img_array,axis=0)\n",
    "#     predictions=detect_model.predict(img_batch)\n",
    "#     index=np.argmax(predictions)\n",
    "#     return classe[index]\n",
    "# interface=gr.Interface(\n",
    "#     fn=prediction,\n",
    "#     inputs=gr.Image(type='pil'),\n",
    "#     outputs=gr.Label(),\n",
    "#     title='dog type prediction',\n",
    "#     description='upload an image to see'\n",
    "# )\n",
    "# interface.launch(share=True)\n",
    "\n"
   ]
  }
 ],
 "metadata": {
  "kernelspec": {
   "display_name": "Python 3",
   "language": "python",
   "name": "python3"
  },
  "language_info": {
   "codemirror_mode": {
    "name": "ipython",
    "version": 3
   },
   "file_extension": ".py",
   "mimetype": "text/x-python",
   "name": "python",
   "nbconvert_exporter": "python",
   "pygments_lexer": "ipython3",
   "version": "3.12.0"
  }
 },
 "nbformat": 4,
 "nbformat_minor": 5
}
